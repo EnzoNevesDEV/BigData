{
  "nbformat": 4,
  "nbformat_minor": 0,
  "metadata": {
    "colab": {
      "provenance": [],
      "authorship_tag": "ABX9TyMGQVFletG+WrpsJQSwo21R",
      "include_colab_link": true
    },
    "kernelspec": {
      "name": "python3",
      "display_name": "Python 3"
    },
    "language_info": {
      "name": "python"
    }
  },
  "cells": [
    {
      "cell_type": "markdown",
      "metadata": {
        "id": "view-in-github",
        "colab_type": "text"
      },
      "source": [
        "<a href=\"https://colab.research.google.com/github/EnzoNevesDEV/BigData/blob/main/Treino2.ipynb\" target=\"_parent\"><img src=\"https://colab.research.google.com/assets/colab-badge.svg\" alt=\"Open In Colab\"/></a>"
      ]
    },
    {
      "cell_type": "code",
      "source": [
        "!apt-get install openjdk-8-jdk-headless -qq > /dev/null"
      ],
      "metadata": {
        "id": "gfDFgbFfWK12"
      },
      "execution_count": 9,
      "outputs": []
    },
    {
      "cell_type": "code",
      "source": [
        "!wget -q https://downloads.apache.org/spark/spark-3.5.1/spark-3.5.1-bin-hadoop3.tgz"
      ],
      "metadata": {
        "id": "LyS3J9yaXtZm"
      },
      "execution_count": 16,
      "outputs": []
    },
    {
      "cell_type": "code",
      "source": [
        "!tar xf spark-3.5.1-bin-hadoop3.tgz"
      ],
      "metadata": {
        "id": "lN8AGwqRWYG1"
      },
      "execution_count": 17,
      "outputs": []
    },
    {
      "cell_type": "code",
      "source": [
        "!pip install -q findspark"
      ],
      "metadata": {
        "id": "d8NUwVrTZChG"
      },
      "execution_count": 18,
      "outputs": []
    },
    {
      "cell_type": "code",
      "source": [
        "!pip install -q pyspark"
      ],
      "metadata": {
        "id": "laUY_QIsZM4p"
      },
      "execution_count": 19,
      "outputs": []
    },
    {
      "cell_type": "code",
      "source": [
        "import os"
      ],
      "metadata": {
        "id": "L0u4Pr_SZwzJ"
      },
      "execution_count": 20,
      "outputs": []
    },
    {
      "cell_type": "code",
      "source": [
        "os.environ['JAVA_HOME'] = '/usr/lib/jvm/java-8-openjdk-amd64'"
      ],
      "metadata": {
        "id": "34jlKgT4Zz3q"
      },
      "execution_count": 21,
      "outputs": []
    },
    {
      "cell_type": "code",
      "source": [
        "os.environ['SPARK_HOME'] = '/content/spark-3.5.1-bin-hadoop3'"
      ],
      "metadata": {
        "id": "RyBbM0LxdLDD"
      },
      "execution_count": 26,
      "outputs": []
    },
    {
      "cell_type": "code",
      "source": [
        "import findspark"
      ],
      "metadata": {
        "id": "YalU6LaMdVBV"
      },
      "execution_count": 23,
      "outputs": []
    },
    {
      "cell_type": "code",
      "source": [
        " findspark.init()"
      ],
      "metadata": {
        "id": "ytb-FyPddXg0"
      },
      "execution_count": 27,
      "outputs": []
    },
    {
      "cell_type": "code",
      "source": [
        "from pyspark.sql import SparkSession"
      ],
      "metadata": {
        "id": "bLpNzWOZftGN"
      },
      "execution_count": 28,
      "outputs": []
    },
    {
      "cell_type": "code",
      "source": [
        "spark = SparkSession.builder \\\n",
        "        .appName(\"Exercício Spark\") \\\n",
        "        .getOrCreate()"
      ],
      "metadata": {
        "id": "a2rzGh407pda"
      },
      "execution_count": 29,
      "outputs": []
    },
    {
      "cell_type": "code",
      "source": [
        "dados = [\n",
        "    (1, \"Raphael\", 39),\n",
        "    (2, \"Caroline\", 30),\n",
        "    (3, \"Viniciu\", 25)\n",
        "]"
      ],
      "metadata": {
        "id": "ZEwgdnnrAGJ6"
      },
      "execution_count": 49,
      "outputs": []
    },
    {
      "cell_type": "code",
      "source": [
        "schema = [ \"id\", \"nome\", \"idade\"]\n",
        "\n",
        "df = spark.createDataFrame(dados, schema)\n",
        "df.createOrReplaceTempView(\"pessoas\")\n",
        "\n",
        "consulta = spark.sql(\"SELECT MAX(idade) AS maior_idade, MAX(id) AS maior_numero FROM pessoas\")\n",
        "\n",
        "consulta.show()"
      ],
      "metadata": {
        "colab": {
          "base_uri": "https://localhost:8080/"
        },
        "id": "1_OTorJiAjik",
        "outputId": "1d36a41d-7e98-43fb-99c5-4fca4538929e"
      },
      "execution_count": 54,
      "outputs": [
        {
          "output_type": "stream",
          "name": "stdout",
          "text": [
            "+-----------+------------+\n",
            "|maior_idade|maior_numero|\n",
            "+-----------+------------+\n",
            "|         39|           3|\n",
            "+-----------+------------+\n",
            "\n"
          ]
        }
      ]
    },
{
      "cell_type": "code",
      "source": [],
      "metadata": {
        "id": "cO7sIauKBkco"
      },
      "execution_count": null,
      "outputs": []
    },
    {
      "cell_type": "code",
      "source": [],
      "metadata": {
        "id": "7n126N8EBkiC"
      },
      "execution_count": null,
      "outputs": []
    }
  ]
}
